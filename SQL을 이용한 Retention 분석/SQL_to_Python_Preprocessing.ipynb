{
 "cells": [
  {
   "cell_type": "code",
   "execution_count": 2,
   "id": "651bc111",
   "metadata": {
    "scrolled": false
   },
   "outputs": [
    {
     "name": "stdout",
     "output_type": "stream",
     "text": [
      "       year  month  customerid         country quantity\n",
      "0      2010     12     17850.0  United Kingdom     1733\n",
      "1      2010     12     13047.0  United Kingdom      101\n",
      "2      2010     12     12583.0          France      449\n",
      "3      2010     12     13748.0  United Kingdom       80\n",
      "4      2010     12     15100.0  United Kingdom       45\n",
      "...     ...    ...         ...             ...      ...\n",
      "12979  2011     12     12713.0         Germany      508\n",
      "12980  2011     12     17581.0  United Kingdom      516\n",
      "12981  2011     12     15804.0  United Kingdom      278\n",
      "12982  2011     12     13113.0  United Kingdom       66\n",
      "12983  2011     12     12680.0          France      105\n",
      "\n",
      "[12984 rows x 5 columns]\n"
     ]
    }
   ],
   "source": [
    "import mysql.connector\n",
    "import pandas as pd\n",
    "config = {\n",
    "    \"host\": \"localhost\",\n",
    "    \"user\": \"jongwoonglee\",\n",
    "    \"password\": \"0075\",\n",
    "    \"database\": \"online_retail_dataset\",\n",
    "    \"port\": 3307\n",
    "}\n",
    "\n",
    "try:\n",
    "    # MySQL 연결 생성\n",
    "    connection = mysql.connector.connect(**config)\n",
    "    cursor = connection.cursor()\n",
    "\n",
    "    # 쿼리 실행\n",
    "#     create_view_query = \"\"\"\n",
    "#     CREATE VIEW extracted_sales_raw_view AS (\n",
    "#         SELECT\n",
    "#             YEAR(InvoiceDate) AS year,\n",
    "#             MONTH(InvoiceDate) AS month,\n",
    "#             customerid,\n",
    "#             country,\n",
    "#             SUM(quantity) AS quantity\n",
    "#         FROM `sales_raw`\n",
    "#         WHERE customerid IS NOT NULL \n",
    "#         GROUP BY 1, 2, 3, 4\n",
    "#         HAVING SUM(quantity) > 0\n",
    "#     )\n",
    "#     \"\"\"\n",
    "    select_view_query = \"SELECT * FROM extracted_sales_raw_view LIMIT 999999;\"\n",
    "\n",
    "#     # CREATE VIEW 쿼리 실행\n",
    "#     cursor.execute(create_view_query)\n",
    "#     connection.commit()\n",
    "\n",
    "    # SELECT 쿼리 실행\n",
    "    cursor.execute(select_view_query)\n",
    "    result = cursor.fetchall()\n",
    "\n",
    "    # 결과를 데이터프레임으로 변환\n",
    "    columns = [column[0] for column in cursor.description]\n",
    "    raw_data = pd.DataFrame(result, columns=columns)\n",
    "    \n",
    "    print(raw_data) \n",
    "\n",
    "        \n",
    "\n",
    "except mysql.connector.Error as err:\n",
    "    print(\"Error:\", err)\n",
    "\n",
    "finally:\n",
    "    # 연결 종료\n",
    "    if 'connection' in locals() and connection.is_connected():\n",
    "        cursor.close()\n",
    "        connection.close()"
   ]
  },
  {
   "cell_type": "code",
   "execution_count": 3,
   "id": "7d6deec7",
   "metadata": {
    "scrolled": true
   },
   "outputs": [
    {
     "data": {
      "text/html": [
       "<div>\n",
       "<style scoped>\n",
       "    .dataframe tbody tr th:only-of-type {\n",
       "        vertical-align: middle;\n",
       "    }\n",
       "\n",
       "    .dataframe tbody tr th {\n",
       "        vertical-align: top;\n",
       "    }\n",
       "\n",
       "    .dataframe thead th {\n",
       "        text-align: right;\n",
       "    }\n",
       "</style>\n",
       "<table border=\"1\" class=\"dataframe\">\n",
       "  <thead>\n",
       "    <tr style=\"text-align: right;\">\n",
       "      <th></th>\n",
       "      <th>year</th>\n",
       "      <th>month</th>\n",
       "      <th>customerid</th>\n",
       "      <th>country</th>\n",
       "      <th>quantity</th>\n",
       "    </tr>\n",
       "  </thead>\n",
       "  <tbody>\n",
       "    <tr>\n",
       "      <th>0</th>\n",
       "      <td>2010</td>\n",
       "      <td>12</td>\n",
       "      <td>17850.0</td>\n",
       "      <td>United Kingdom</td>\n",
       "      <td>1733</td>\n",
       "    </tr>\n",
       "    <tr>\n",
       "      <th>1</th>\n",
       "      <td>2010</td>\n",
       "      <td>12</td>\n",
       "      <td>13047.0</td>\n",
       "      <td>United Kingdom</td>\n",
       "      <td>101</td>\n",
       "    </tr>\n",
       "    <tr>\n",
       "      <th>2</th>\n",
       "      <td>2010</td>\n",
       "      <td>12</td>\n",
       "      <td>12583.0</td>\n",
       "      <td>France</td>\n",
       "      <td>449</td>\n",
       "    </tr>\n",
       "    <tr>\n",
       "      <th>3</th>\n",
       "      <td>2010</td>\n",
       "      <td>12</td>\n",
       "      <td>13748.0</td>\n",
       "      <td>United Kingdom</td>\n",
       "      <td>80</td>\n",
       "    </tr>\n",
       "    <tr>\n",
       "      <th>4</th>\n",
       "      <td>2010</td>\n",
       "      <td>12</td>\n",
       "      <td>15100.0</td>\n",
       "      <td>United Kingdom</td>\n",
       "      <td>45</td>\n",
       "    </tr>\n",
       "    <tr>\n",
       "      <th>...</th>\n",
       "      <td>...</td>\n",
       "      <td>...</td>\n",
       "      <td>...</td>\n",
       "      <td>...</td>\n",
       "      <td>...</td>\n",
       "    </tr>\n",
       "    <tr>\n",
       "      <th>12979</th>\n",
       "      <td>2011</td>\n",
       "      <td>12</td>\n",
       "      <td>12713.0</td>\n",
       "      <td>Germany</td>\n",
       "      <td>508</td>\n",
       "    </tr>\n",
       "    <tr>\n",
       "      <th>12980</th>\n",
       "      <td>2011</td>\n",
       "      <td>12</td>\n",
       "      <td>17581.0</td>\n",
       "      <td>United Kingdom</td>\n",
       "      <td>516</td>\n",
       "    </tr>\n",
       "    <tr>\n",
       "      <th>12981</th>\n",
       "      <td>2011</td>\n",
       "      <td>12</td>\n",
       "      <td>15804.0</td>\n",
       "      <td>United Kingdom</td>\n",
       "      <td>278</td>\n",
       "    </tr>\n",
       "    <tr>\n",
       "      <th>12982</th>\n",
       "      <td>2011</td>\n",
       "      <td>12</td>\n",
       "      <td>13113.0</td>\n",
       "      <td>United Kingdom</td>\n",
       "      <td>66</td>\n",
       "    </tr>\n",
       "    <tr>\n",
       "      <th>12983</th>\n",
       "      <td>2011</td>\n",
       "      <td>12</td>\n",
       "      <td>12680.0</td>\n",
       "      <td>France</td>\n",
       "      <td>105</td>\n",
       "    </tr>\n",
       "  </tbody>\n",
       "</table>\n",
       "<p>12984 rows × 5 columns</p>\n",
       "</div>"
      ],
      "text/plain": [
       "       year  month  customerid         country quantity\n",
       "0      2010     12     17850.0  United Kingdom     1733\n",
       "1      2010     12     13047.0  United Kingdom      101\n",
       "2      2010     12     12583.0          France      449\n",
       "3      2010     12     13748.0  United Kingdom       80\n",
       "4      2010     12     15100.0  United Kingdom       45\n",
       "...     ...    ...         ...             ...      ...\n",
       "12979  2011     12     12713.0         Germany      508\n",
       "12980  2011     12     17581.0  United Kingdom      516\n",
       "12981  2011     12     15804.0  United Kingdom      278\n",
       "12982  2011     12     13113.0  United Kingdom       66\n",
       "12983  2011     12     12680.0          France      105\n",
       "\n",
       "[12984 rows x 5 columns]"
      ]
     },
     "execution_count": 3,
     "metadata": {},
     "output_type": "execute_result"
    }
   ],
   "source": [
    "raw_data"
   ]
  },
  {
   "cell_type": "code",
   "execution_count": 15,
   "id": "212a0cb8",
   "metadata": {},
   "outputs": [
    {
     "data": {
      "text/plain": [
       "15358.0    13\n",
       "16033.0    13\n",
       "13694.0    13\n",
       "15769.0    13\n",
       "17576.0    13\n",
       "           ..\n",
       "14280.0     1\n",
       "14816.0     1\n",
       "12974.0     1\n",
       "16448.0     1\n",
       "12713.0     1\n",
       "Name: customerid, Length: 4327, dtype: int64"
      ]
     },
     "execution_count": 15,
     "metadata": {},
     "output_type": "execute_result"
    }
   ],
   "source": [
    "raw_data['customerid'].value_counts()"
   ]
  },
  {
   "cell_type": "code",
   "execution_count": 14,
   "id": "66a415d9",
   "metadata": {},
   "outputs": [
    {
     "name": "stdout",
     "output_type": "stream",
     "text": [
      "71.73480662983425\n"
     ]
    }
   ],
   "source": [
    "result_counts = raw_data['customerid'].value_counts()\n",
    "\n",
    "# 10 이상인 값들 추출하여 리스트에 넣기\n",
    "values_over_10 = [value for value, count in result_counts.items() if count >= 10]\n",
    "print(12984 /len(values_over_10))\n",
    "# print(values_over_10)"
   ]
  },
  {
   "cell_type": "code",
   "execution_count": 10,
   "id": "21f7fa2d",
   "metadata": {},
   "outputs": [
    {
     "data": {
      "text/html": [
       "<div>\n",
       "<style scoped>\n",
       "    .dataframe tbody tr th:only-of-type {\n",
       "        vertical-align: middle;\n",
       "    }\n",
       "\n",
       "    .dataframe tbody tr th {\n",
       "        vertical-align: top;\n",
       "    }\n",
       "\n",
       "    .dataframe thead th {\n",
       "        text-align: right;\n",
       "    }\n",
       "</style>\n",
       "<table border=\"1\" class=\"dataframe\">\n",
       "  <thead>\n",
       "    <tr style=\"text-align: right;\">\n",
       "      <th></th>\n",
       "      <th>year</th>\n",
       "      <th>month</th>\n",
       "      <th>customerid</th>\n",
       "      <th>country</th>\n",
       "      <th>quantity</th>\n",
       "    </tr>\n",
       "  </thead>\n",
       "  <tbody>\n",
       "    <tr>\n",
       "      <th>522</th>\n",
       "      <td>2010</td>\n",
       "      <td>12</td>\n",
       "      <td>15358.0</td>\n",
       "      <td>United Kingdom</td>\n",
       "      <td>475</td>\n",
       "    </tr>\n",
       "    <tr>\n",
       "      <th>958</th>\n",
       "      <td>2011</td>\n",
       "      <td>1</td>\n",
       "      <td>15358.0</td>\n",
       "      <td>United Kingdom</td>\n",
       "      <td>1025</td>\n",
       "    </tr>\n",
       "    <tr>\n",
       "      <th>2011</th>\n",
       "      <td>2011</td>\n",
       "      <td>2</td>\n",
       "      <td>15358.0</td>\n",
       "      <td>United Kingdom</td>\n",
       "      <td>374</td>\n",
       "    </tr>\n",
       "    <tr>\n",
       "      <th>2553</th>\n",
       "      <td>2011</td>\n",
       "      <td>3</td>\n",
       "      <td>15358.0</td>\n",
       "      <td>United Kingdom</td>\n",
       "      <td>827</td>\n",
       "    </tr>\n",
       "    <tr>\n",
       "      <th>3764</th>\n",
       "      <td>2011</td>\n",
       "      <td>4</td>\n",
       "      <td>15358.0</td>\n",
       "      <td>United Kingdom</td>\n",
       "      <td>503</td>\n",
       "    </tr>\n",
       "    <tr>\n",
       "      <th>4785</th>\n",
       "      <td>2011</td>\n",
       "      <td>5</td>\n",
       "      <td>15358.0</td>\n",
       "      <td>United Kingdom</td>\n",
       "      <td>455</td>\n",
       "    </tr>\n",
       "    <tr>\n",
       "      <th>5770</th>\n",
       "      <td>2011</td>\n",
       "      <td>6</td>\n",
       "      <td>15358.0</td>\n",
       "      <td>United Kingdom</td>\n",
       "      <td>307</td>\n",
       "    </tr>\n",
       "    <tr>\n",
       "      <th>7032</th>\n",
       "      <td>2011</td>\n",
       "      <td>7</td>\n",
       "      <td>15358.0</td>\n",
       "      <td>United Kingdom</td>\n",
       "      <td>141</td>\n",
       "    </tr>\n",
       "    <tr>\n",
       "      <th>7568</th>\n",
       "      <td>2011</td>\n",
       "      <td>8</td>\n",
       "      <td>15358.0</td>\n",
       "      <td>United Kingdom</td>\n",
       "      <td>707</td>\n",
       "    </tr>\n",
       "    <tr>\n",
       "      <th>8578</th>\n",
       "      <td>2011</td>\n",
       "      <td>9</td>\n",
       "      <td>15358.0</td>\n",
       "      <td>United Kingdom</td>\n",
       "      <td>933</td>\n",
       "    </tr>\n",
       "    <tr>\n",
       "      <th>10347</th>\n",
       "      <td>2011</td>\n",
       "      <td>10</td>\n",
       "      <td>15358.0</td>\n",
       "      <td>United Kingdom</td>\n",
       "      <td>334</td>\n",
       "    </tr>\n",
       "    <tr>\n",
       "      <th>11020</th>\n",
       "      <td>2011</td>\n",
       "      <td>11</td>\n",
       "      <td>15358.0</td>\n",
       "      <td>United Kingdom</td>\n",
       "      <td>196</td>\n",
       "    </tr>\n",
       "    <tr>\n",
       "      <th>12635</th>\n",
       "      <td>2011</td>\n",
       "      <td>12</td>\n",
       "      <td>15358.0</td>\n",
       "      <td>United Kingdom</td>\n",
       "      <td>650</td>\n",
       "    </tr>\n",
       "  </tbody>\n",
       "</table>\n",
       "</div>"
      ],
      "text/plain": [
       "       year  month  customerid         country quantity\n",
       "522    2010     12     15358.0  United Kingdom      475\n",
       "958    2011      1     15358.0  United Kingdom     1025\n",
       "2011   2011      2     15358.0  United Kingdom      374\n",
       "2553   2011      3     15358.0  United Kingdom      827\n",
       "3764   2011      4     15358.0  United Kingdom      503\n",
       "4785   2011      5     15358.0  United Kingdom      455\n",
       "5770   2011      6     15358.0  United Kingdom      307\n",
       "7032   2011      7     15358.0  United Kingdom      141\n",
       "7568   2011      8     15358.0  United Kingdom      707\n",
       "8578   2011      9     15358.0  United Kingdom      933\n",
       "10347  2011     10     15358.0  United Kingdom      334\n",
       "11020  2011     11     15358.0  United Kingdom      196\n",
       "12635  2011     12     15358.0  United Kingdom      650"
      ]
     },
     "execution_count": 10,
     "metadata": {},
     "output_type": "execute_result"
    }
   ],
   "source": [
    "raw_data[raw_data['customerid']==15358.0]"
   ]
  },
  {
   "cell_type": "code",
   "execution_count": 5,
   "id": "b5d9e2a1",
   "metadata": {},
   "outputs": [],
   "source": [
    "# xlsx로 내보내기\n",
    "output_path = 'C:/Users/dlwhd/Downloads/TIL/SQL을 이용한 Retention 분석/Preprocessed_In_SQL_data.xlsx'\n",
    "raw_data.to_excel(output_path, index=False)  # index=False로 설정하면 인덱스를 저장하지 않음"
   ]
  },
  {
   "cell_type": "markdown",
   "id": "48d69981",
   "metadata": {},
   "source": [
    "## **여기부터는 파이썬에서 전처리 하는 것**"
   ]
  },
  {
   "cell_type": "markdown",
   "id": "755d87a8",
   "metadata": {},
   "source": [
    "#### 음수의 Quantity (환불) 제거"
   ]
  },
  {
   "cell_type": "code",
   "execution_count": null,
   "id": "46eb65df",
   "metadata": {},
   "outputs": [],
   "source": [
    "raw_data[raw_data['Quantity'] < 0 ]"
   ]
  },
  {
   "cell_type": "code",
   "execution_count": null,
   "id": "816e5880",
   "metadata": {},
   "outputs": [],
   "source": [
    "idx = raw_data[raw_data['Quantity'] < 0].index\n",
    "\n",
    "Delete_Negative_data = raw_data.drop(idx,inplace=False)\n",
    "Delete_Negative_data"
   ]
  },
  {
   "cell_type": "code",
   "execution_count": null,
   "id": "09aec4ec",
   "metadata": {},
   "outputs": [],
   "source": [
    "Delete_Negative_data.info()"
   ]
  },
  {
   "cell_type": "code",
   "execution_count": null,
   "id": "265415a8",
   "metadata": {},
   "outputs": [],
   "source": [
    "Delete_Negative_data.isnull().sum()"
   ]
  },
  {
   "cell_type": "markdown",
   "id": "0ff181d2",
   "metadata": {},
   "source": [
    "#### 결측치 없음"
   ]
  },
  {
   "cell_type": "code",
   "execution_count": null,
   "id": "855bdc62",
   "metadata": {
    "scrolled": false
   },
   "outputs": [],
   "source": [
    "Delete_Negative_data"
   ]
  },
  {
   "cell_type": "code",
   "execution_count": null,
   "id": "2f472bac",
   "metadata": {},
   "outputs": [],
   "source": [
    "Delete_Negative_data['CustomerID'] = Delete_Negative_data['CustomerID'].astype('int')\n",
    "Delete_Negative_data['Quantity'] = Delete_Negative_data['Quantity'].astype('int')\n",
    "Delete_Negative_data"
   ]
  },
  {
   "cell_type": "code",
   "execution_count": null,
   "id": "5eae8c40",
   "metadata": {},
   "outputs": [],
   "source": [
    "query = \"\"\"\n",
    "    SELECT DISTINCT CustomerID, COUNT(DISTINCT(InvoiceDate)) AS OrderCount\n",
    "    FROM `sales_raw`\n",
    "    GROUP BY CustomerID\n",
    "    ORDER BY OrderCount DESC\n",
    "    LIMIT 999999;\n",
    "\"\"\"\n",
    "\n",
    "data = pd.read_sql(query, con=db_connection)\n",
    "data['CustomerID'] = data['CustomerID'].astype('int')\n",
    "data['OrderCount'] = data['OrderCount'].astype('int')\n",
    "data"
   ]
  },
  {
   "cell_type": "code",
   "execution_count": null,
   "id": "4dc2d633",
   "metadata": {
    "scrolled": true
   },
   "outputs": [],
   "source": [
    "Hyper_CustomerID = []\n",
    "Super_CustomerID = []\n",
    "General_CustomerID = []\n",
    "\n",
    "for i in range(len(data)-1):\n",
    "    order_count = data.loc[i, 'OrderCount']  # 현재 행의 OrderCount 값을 가져옴\n",
    "    if order_count > 39:\n",
    "        Hyper_CustomerID.append(data.loc[i, 'CustomerID'])\n",
    "    elif order_count > 14:\n",
    "        Super_CustomerID.append(data.loc[i, 'CustomerID'])\n",
    "    elif order_count > 0:\n",
    "        General_CustomerID.append(data.loc[i, 'CustomerID'])\n",
    "\n",
    "print(\"Hyper_CustomerID 리스트 : \", Hyper_CustomerID)\n",
    "print(\"Super_CustomerID 리스트 : \", Super_CustomerID)\n",
    "print(\"General_CustomerID 리스트 : \", General_CustomerID)"
   ]
  },
  {
   "cell_type": "code",
   "execution_count": null,
   "id": "95dff776",
   "metadata": {},
   "outputs": [],
   "source": [
    "Hyper_Customer_Data = Delete_Negative_data[Delete_Negative_data['CustomerID'].isin(Hyper_CustomerID)]\n",
    "Super_CustomerData = Delete_Negative_data[Delete_Negative_data['CustomerID'].isin(Super_CustomerID)]\n",
    "General_CustomerData = Delete_Negative_data[Delete_Negative_data['CustomerID'].isin(General_CustomerID)]"
   ]
  },
  {
   "cell_type": "code",
   "execution_count": null,
   "id": "3758d79f",
   "metadata": {
    "scrolled": true
   },
   "outputs": [],
   "source": [
    "# YYYY-MM-DD 형태로 통일하고 Datatime 자료형으로 바꾸기 \n",
    "import pandas as pd\n",
    "from datetime import datetime\n",
    "\n",
    "# 문자열을 datetime 객체로 변환하는 함수\n",
    "def convert_to_datetime(date_str):\n",
    "    return datetime.strptime(date_str, \"%Y-%m-%d %H:%M\").strftime(\"%Y-%m-%d\")\n",
    "\n",
    "# apply 함수를 사용하여 각 행에 대해 변환 적용\n",
    "Hyper_Customer_Data['InvoiceDate'] = Hyper_Customer_Data['InvoiceDate'].apply(convert_to_datetime)\n",
    "Super_CustomerData['InvoiceDate'] = Super_CustomerData['InvoiceDate'].apply(convert_to_datetime)\n",
    "General_CustomerData['InvoiceDate'] = General_CustomerData['InvoiceDate'].apply(convert_to_datetime)\n",
    "Hyper_Customer_Data['InvoiceDate']"
   ]
  },
  {
   "cell_type": "markdown",
   "id": "8982f14c",
   "metadata": {},
   "source": [
    "이제 첫 구매년월을 기준으로 코호트를 나눈다. 그 고객들이 N달 후에도 이용하는지 알아보고 리텐션 출력값을 얻는다."
   ]
  },
  {
   "cell_type": "code",
   "execution_count": null,
   "id": "0fb88169",
   "metadata": {},
   "outputs": [],
   "source": []
  },
  {
   "cell_type": "code",
   "execution_count": null,
   "id": "f960c26e",
   "metadata": {},
   "outputs": [],
   "source": []
  },
  {
   "cell_type": "code",
   "execution_count": null,
   "id": "b6717206",
   "metadata": {},
   "outputs": [],
   "source": [
    "# xlsx로 내보내기\n",
    "output_path = 'C:/Users/dlwhd/Downloads/TIL/SQL을 이용한 Retention 분석/Hyper_Customer_Data.xlsx'\n",
    "Hyper_Customer_Data.to_excel(output_path, index=False)  # index=False로 설정하면 인덱스를 저장하지 않음\n",
    "output_path = 'C:/Users/dlwhd/Downloads/TIL/SQL을 이용한 Retention 분석/Super_CustomerData.xlsx'\n",
    "Super_CustomerData.to_excel(output_path, index=False)\n",
    "output_path = 'C:/Users/dlwhd/Downloads/TIL/SQL을 이용한 Retention 분석/General_CustomerData.xlsx'\n",
    "General_CustomerData.to_excel(output_path, index=False)"
   ]
  },
  {
   "cell_type": "code",
   "execution_count": null,
   "id": "739098cf",
   "metadata": {},
   "outputs": [],
   "source": [
    "# xlsx로 내보내기\n",
    "output_path = 'C:/Users/dlwhd/Downloads/TIL/SQL을 이용한 Retention 분석/Preprocessed_OrderCount_data.xlsx'\n",
    "data.to_excel(output_path, index=False)  # index=False로 설정하면 인덱스를 저장하지 않음"
   ]
  },
  {
   "cell_type": "code",
   "execution_count": null,
   "id": "957c2ff9",
   "metadata": {},
   "outputs": [],
   "source": [
    "# xlsx로 내보내기\n",
    "output_path = 'C:/Users/dlwhd/Downloads/TIL/SQL을 이용한 Retention 분석/Preprocessed_data.xlsx'\n",
    "Delete_Negative_data.to_excel(output_path, index=False)  # index=False로 설정하면 인덱스를 저장하지 않음"
   ]
  },
  {
   "cell_type": "markdown",
   "id": "190a877b",
   "metadata": {},
   "source": [
    "**아래에서 나오는 중복제거 로직은, 엄밀히는 중복값이 아니지만, 고객별 그 날 주문 건수로 파악하기 위해서 제거하는 중복값 제거이다.**\n"
   ]
  },
  {
   "cell_type": "code",
   "execution_count": null,
   "id": "bf5ae9e6",
   "metadata": {},
   "outputs": [],
   "source": [
    "# 중복된 값이 있는 컬럼들로 그룹화\n",
    "groups = Delete_Negative_data.groupby(['InvoiceNo', 'Description', 'InvoiceDate', 'CustomerID'])\n",
    "\n",
    "# 그룹화된 데이터에서 StockCode 값이 다른 행만 추출\n",
    "Day_Unique_Purchase_Record = groups.filter(lambda group: group['StockCode'].nunique() > 1)\n",
    "Day_Unique_Purchase_Record"
   ]
  }
 ],
 "metadata": {
  "kernelspec": {
   "display_name": "Python 3 (ipykernel)",
   "language": "python",
   "name": "python3"
  },
  "language_info": {
   "codemirror_mode": {
    "name": "ipython",
    "version": 3
   },
   "file_extension": ".py",
   "mimetype": "text/x-python",
   "name": "python",
   "nbconvert_exporter": "python",
   "pygments_lexer": "ipython3",
   "version": "3.8.16"
  }
 },
 "nbformat": 4,
 "nbformat_minor": 5
}
